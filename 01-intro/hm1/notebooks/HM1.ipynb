{
 "cells": [
  {
   "cell_type": "code",
   "execution_count": 137,
   "id": "2b7235b1",
   "metadata": {},
   "outputs": [],
   "source": [
    "import pandas as pd\n",
    "import numpy as np\n",
    "from sklearn.feature_extraction import DictVectorizer\n",
    "from sklearn.linear_model import LinearRegression\n",
    "from sklearn.metrics import mean_squared_error"
   ]
  },
  {
   "cell_type": "code",
   "execution_count": 124,
   "id": "72843779",
   "metadata": {},
   "outputs": [],
   "source": [
    "df_jan = pd.read_parquet('../data/fhv_tripdata_2021-01.parquet')\n",
    "df_feb = pd.read_parquet('../data/fhv_tripdata_2021-02.parquet')"
   ]
  },
  {
   "cell_type": "code",
   "execution_count": 125,
   "id": "7f9da07a",
   "metadata": {},
   "outputs": [
    {
     "data": {
      "text/html": [
       "<div>\n",
       "<style scoped>\n",
       "    .dataframe tbody tr th:only-of-type {\n",
       "        vertical-align: middle;\n",
       "    }\n",
       "\n",
       "    .dataframe tbody tr th {\n",
       "        vertical-align: top;\n",
       "    }\n",
       "\n",
       "    .dataframe thead th {\n",
       "        text-align: right;\n",
       "    }\n",
       "</style>\n",
       "<table border=\"1\" class=\"dataframe\">\n",
       "  <thead>\n",
       "    <tr style=\"text-align: right;\">\n",
       "      <th></th>\n",
       "      <th>PUlocationID</th>\n",
       "      <th>DOlocationID</th>\n",
       "    </tr>\n",
       "  </thead>\n",
       "  <tbody>\n",
       "    <tr>\n",
       "      <th>0</th>\n",
       "      <td>-1.0</td>\n",
       "      <td>-1.0</td>\n",
       "    </tr>\n",
       "    <tr>\n",
       "      <th>1</th>\n",
       "      <td>-1.0</td>\n",
       "      <td>-1.0</td>\n",
       "    </tr>\n",
       "    <tr>\n",
       "      <th>2</th>\n",
       "      <td>-1.0</td>\n",
       "      <td>72.0</td>\n",
       "    </tr>\n",
       "    <tr>\n",
       "      <th>3</th>\n",
       "      <td>-1.0</td>\n",
       "      <td>61.0</td>\n",
       "    </tr>\n",
       "    <tr>\n",
       "      <th>4</th>\n",
       "      <td>-1.0</td>\n",
       "      <td>71.0</td>\n",
       "    </tr>\n",
       "  </tbody>\n",
       "</table>\n",
       "</div>"
      ],
      "text/plain": [
       "  PUlocationID DOlocationID\n",
       "0         -1.0         -1.0\n",
       "1         -1.0         -1.0\n",
       "2         -1.0         72.0\n",
       "3         -1.0         61.0\n",
       "4         -1.0         71.0"
      ]
     },
     "execution_count": 125,
     "metadata": {},
     "output_type": "execute_result"
    }
   ],
   "source": [
    "df.head()"
   ]
  },
  {
   "cell_type": "markdown",
   "id": "194c26fb",
   "metadata": {},
   "source": [
    "### Question 1"
   ]
  },
  {
   "cell_type": "code",
   "execution_count": 126,
   "id": "70dc88ec",
   "metadata": {},
   "outputs": [
    {
     "data": {
      "text/plain": [
       "1154112"
      ]
     },
     "execution_count": 126,
     "metadata": {},
     "output_type": "execute_result"
    }
   ],
   "source": [
    "df_jan.shape[0]"
   ]
  },
  {
   "cell_type": "markdown",
   "id": "af68023d",
   "metadata": {},
   "source": [
    "### Question 2"
   ]
  },
  {
   "cell_type": "code",
   "execution_count": 127,
   "id": "980dab19",
   "metadata": {},
   "outputs": [
    {
     "data": {
      "text/plain": [
       "Timedelta('0 days 00:19:10.033445627')"
      ]
     },
     "execution_count": 127,
     "metadata": {},
     "output_type": "execute_result"
    }
   ],
   "source": [
    "(df_jan['dropOff_datetime'] - df_jan['pickup_datetime']).mean()"
   ]
  },
  {
   "cell_type": "markdown",
   "id": "23f9c0db",
   "metadata": {},
   "source": [
    "### Filter rows"
   ]
  },
  {
   "cell_type": "code",
   "execution_count": 128,
   "id": "a4991a38",
   "metadata": {},
   "outputs": [],
   "source": [
    "df_jan['trip_time_minutes'] = (df_jan['dropOff_datetime'] - df_jan['pickup_datetime']).dt.seconds / 60\n",
    "df_jan = df_jan[df_jan['trip_time_minutes'].between(1, 60)]\n",
    "\n",
    "df_feb['trip_time_minutes'] = (df_feb['dropOff_datetime'] - df_feb['pickup_datetime']).dt.seconds / 60\n",
    "df_feb = df_feb[df_feb['trip_time_minutes'].between(1, 60)]"
   ]
  },
  {
   "cell_type": "markdown",
   "id": "91a03f15",
   "metadata": {},
   "source": [
    "### Question 3"
   ]
  },
  {
   "cell_type": "code",
   "execution_count": 129,
   "id": "121f3fe0",
   "metadata": {},
   "outputs": [],
   "source": [
    "df_jan[['PUlocationID', 'DOlocationID']] = df_jan[['PUlocationID', 'DOlocationID']].fillna(-1)\n",
    "df_feb[['PUlocationID', 'DOlocationID']] = df_feb[['PUlocationID', 'DOlocationID']].fillna(-1)"
   ]
  },
  {
   "cell_type": "code",
   "execution_count": 130,
   "id": "a650919a",
   "metadata": {},
   "outputs": [
    {
     "data": {
      "text/plain": [
       "-1.0      83.527548\n",
       " 221.0     0.750550\n",
       " 206.0     0.612423\n",
       " 129.0     0.484659\n",
       " 115.0     0.367796\n",
       "            ...    \n",
       " 111.0     0.000451\n",
       " 27.0      0.000360\n",
       " 34.0      0.000270\n",
       " 2.0       0.000180\n",
       " 110.0     0.000090\n",
       "Name: PUlocationID, Length: 262, dtype: float64"
      ]
     },
     "execution_count": 130,
     "metadata": {},
     "output_type": "execute_result"
    }
   ],
   "source": [
    "df_jan['PUlocationID'].value_counts(normalize=True)*100"
   ]
  },
  {
   "cell_type": "markdown",
   "id": "8b8443c7",
   "metadata": {},
   "source": [
    "### Create matrixes"
   ]
  },
  {
   "cell_type": "code",
   "execution_count": 103,
   "id": "eca64a84",
   "metadata": {},
   "outputs": [],
   "source": [
    "train_len = df_jan.shape[0]"
   ]
  },
  {
   "cell_type": "code",
   "execution_count": 132,
   "id": "7c9dec65",
   "metadata": {},
   "outputs": [],
   "source": [
    "df = pd.concat((df_jan, df_feb), ignore_index=True)"
   ]
  },
  {
   "cell_type": "code",
   "execution_count": 112,
   "id": "fc953e9b",
   "metadata": {},
   "outputs": [],
   "source": [
    "df['PUlocationID'] = df['PUlocationID'].astype(str)\n",
    "df['DOlocationID'] = df['DOlocationID'].astype(str)"
   ]
  },
  {
   "cell_type": "code",
   "execution_count": 113,
   "id": "4c85f05b",
   "metadata": {},
   "outputs": [],
   "source": [
    "D = df[['PUlocationID', 'DOlocationID']].to_dict(orient='records')"
   ]
  },
  {
   "cell_type": "code",
   "execution_count": 118,
   "id": "376f0c29",
   "metadata": {},
   "outputs": [],
   "source": [
    "v = DictVectorizer(sparse=True)"
   ]
  },
  {
   "cell_type": "code",
   "execution_count": 119,
   "id": "cd56e330",
   "metadata": {},
   "outputs": [],
   "source": [
    "X = v.fit_transform(D)"
   ]
  },
  {
   "cell_type": "markdown",
   "id": "7a420358",
   "metadata": {},
   "source": [
    "### Question 4"
   ]
  },
  {
   "cell_type": "code",
   "execution_count": 120,
   "id": "02262df3",
   "metadata": {},
   "outputs": [
    {
     "data": {
      "text/plain": [
       "526"
      ]
     },
     "execution_count": 120,
     "metadata": {},
     "output_type": "execute_result"
    }
   ],
   "source": [
    "X.shape[1]"
   ]
  },
  {
   "cell_type": "markdown",
   "id": "c83c1c66",
   "metadata": {},
   "source": [
    "### Question 5"
   ]
  },
  {
   "cell_type": "code",
   "execution_count": 145,
   "id": "68b64421",
   "metadata": {
    "scrolled": true
   },
   "outputs": [],
   "source": [
    "model = LinearRegression()\n",
    "model = model.fit(X[:train_len], df['trip_time_minutes'].iloc[:train_len])"
   ]
  },
  {
   "cell_type": "code",
   "execution_count": 146,
   "id": "7446d3c3",
   "metadata": {},
   "outputs": [
    {
     "data": {
      "text/plain": [
       "10.528643590004952"
      ]
     },
     "execution_count": 146,
     "metadata": {},
     "output_type": "execute_result"
    }
   ],
   "source": [
    "pred = model.predict(X[:train_len])\n",
    "np.sqrt(mean_squared_error(df['trip_time_minutes'].iloc[:train_len], pred))"
   ]
  },
  {
   "cell_type": "markdown",
   "id": "c198d5b6",
   "metadata": {},
   "source": [
    "### Question 6"
   ]
  },
  {
   "cell_type": "code",
   "execution_count": 147,
   "id": "a366d6db",
   "metadata": {},
   "outputs": [],
   "source": [
    "pred = model.predict(X[train_len:])"
   ]
  },
  {
   "cell_type": "code",
   "execution_count": 148,
   "id": "eb2e72ea",
   "metadata": {},
   "outputs": [
    {
     "data": {
      "text/plain": [
       "11.014590537467848"
      ]
     },
     "execution_count": 148,
     "metadata": {},
     "output_type": "execute_result"
    }
   ],
   "source": [
    "np.sqrt(mean_squared_error(df['trip_time_minutes'].iloc[train_len:], pred))"
   ]
  },
  {
   "cell_type": "code",
   "execution_count": null,
   "id": "f90b99ad",
   "metadata": {},
   "outputs": [],
   "source": []
  },
  {
   "cell_type": "code",
   "execution_count": null,
   "id": "f3b45740",
   "metadata": {},
   "outputs": [],
   "source": []
  },
  {
   "cell_type": "code",
   "execution_count": null,
   "id": "3cce0f68",
   "metadata": {},
   "outputs": [],
   "source": []
  },
  {
   "cell_type": "code",
   "execution_count": null,
   "id": "c3728795",
   "metadata": {},
   "outputs": [],
   "source": []
  },
  {
   "cell_type": "code",
   "execution_count": null,
   "id": "514a2e68",
   "metadata": {},
   "outputs": [],
   "source": []
  },
  {
   "cell_type": "code",
   "execution_count": null,
   "id": "872c5693",
   "metadata": {},
   "outputs": [],
   "source": []
  },
  {
   "cell_type": "code",
   "execution_count": null,
   "id": "2313a72a",
   "metadata": {},
   "outputs": [],
   "source": []
  },
  {
   "cell_type": "code",
   "execution_count": null,
   "id": "ebcff6c3",
   "metadata": {},
   "outputs": [],
   "source": []
  }
 ],
 "metadata": {
  "kernelspec": {
   "display_name": "Python 3 (ipykernel)",
   "language": "python",
   "name": "python3"
  },
  "language_info": {
   "codemirror_mode": {
    "name": "ipython",
    "version": 3
   },
   "file_extension": ".py",
   "mimetype": "text/x-python",
   "name": "python",
   "nbconvert_exporter": "python",
   "pygments_lexer": "ipython3",
   "version": "3.9.9"
  },
  "toc": {
   "base_numbering": 1,
   "nav_menu": {},
   "number_sections": false,
   "sideBar": true,
   "skip_h1_title": false,
   "title_cell": "Table of Contents",
   "title_sidebar": "Contents",
   "toc_cell": false,
   "toc_position": {},
   "toc_section_display": true,
   "toc_window_display": false
  }
 },
 "nbformat": 4,
 "nbformat_minor": 5
}
